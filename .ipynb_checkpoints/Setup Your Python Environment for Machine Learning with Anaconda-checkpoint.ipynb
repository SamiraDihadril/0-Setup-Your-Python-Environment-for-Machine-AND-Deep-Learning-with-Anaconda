{
 "cells": [
  {
   "cell_type": "code",
   "execution_count": 1,
   "metadata": {},
   "outputs": [],
   "source": [
    "#Setup Your Python Environment for Machine Learning with Anaconda\n",
    "\n"
   ]
  },
  {
   "cell_type": "code",
   "execution_count": 2,
   "metadata": {},
   "outputs": [],
   "source": [
    "# 1/Download Anaconda\n",
    "# 2/Install Anaconda\n",
    "# 3/Start and Update Anaconda\n",
    "# 4/Update scikit-learn Library\n",
    "# 5/Install Deep Learning Libraries"
   ]
  },
  {
   "cell_type": "code",
   "execution_count": 3,
   "metadata": {},
   "outputs": [],
   "source": [
    "# 1. Download Anaconda\n",
    "# In this step, we will download the Anaconda Python package for your platform.\n",
    "\n",
    "# Anaconda is a free and easy-to-use environment for scientific Python.\n",
    "\n",
    "# 1. Visit the Anaconda homepage.\n",
    "# 2. Click “Anaconda” from the menu and click “Download” to go to the download page.\n",
    "\n",
    "# 3. Choose the download suitable for your platform (Windows, OSX, or Linux):\n",
    "# Choose Python 3.5\n",
    "# Choose the Graphical Installer\n",
    "\n",
    "# You should have a file with a name like:\n",
    "\n",
    "# Anaconda3-4.2.0-MacOSX-x86_64.pkg\n"
   ]
  },
  {
   "cell_type": "code",
   "execution_count": 4,
   "metadata": {},
   "outputs": [],
   "source": [
    "# 2. Install Anaconda\n",
    "# In this step, we will install the Anaconda Python software on your system.\n",
    "\n",
    "# This step assumes you have sufficient administrative privileges to install software on your system.\n",
    "\n",
    "# 1. Double click the downloaded file.\n",
    "# 2. Follow the installation wizard."
   ]
  },
  {
   "cell_type": "code",
   "execution_count": 6,
   "metadata": {},
   "outputs": [
    {
     "name": "stdout",
     "output_type": "stream",
     "text": [
      "scipy: 1.5.2\n",
      "numpy: 1.19.2\n",
      "matplotlib: 3.3.2\n",
      "pandas: 1.1.3\n",
      "statsmodels: 0.12.0\n",
      "sklearn: 0.23.2\n"
     ]
    }
   ],
   "source": [
    "# 3. Start and Update Anaconda\n",
    "# In this step, we will confirm that your Anaconda Python environment is up to date.\n",
    "\n",
    "# Anaconda comes with a suite of graphical tools called Anaconda Navigator. You can start Anaconda Navigator by opening it from your application launcher.\n",
    "\n",
    "\n",
    "# You can learn all about the Anaconda Navigator here.\n",
    "\n",
    "# You can use the Anaconda Navigator and graphical development environments later; for now, I recommend starting with the Anaconda command line environment called conda.\n",
    "\n",
    "# Conda is fast, simple, it’s hard for error messages to hide, and you can quickly confirm your environment is installed and working correctly.\n",
    "\n",
    "# 1. Open a terminal (Anaconda prompt ).\n",
    "# 2. Confirm conda is installed correctly, by typing:\n",
    "# conda -V\n",
    "# You should see the following (or something similar):\n",
    "# conda 4.2.9\n",
    "\n",
    "# 3. Confirm Python is installed correctly by typing:\n",
    "# python -V\n",
    "# You should see the following (or something similar):\n",
    "# Python 3.5.2 :: Anaconda 4.2.0 (x86_64)\n",
    "\n",
    "# 4. Confirm your conda environment is up-to-date, type:\n",
    "# conda update conda\n",
    "# conda update anaconda\n",
    "\n",
    "# 5. Confirm your SciPy environment.\n",
    "# The script below will print the version number of the key SciPy libraries you require for machine learning development, specifically: SciPy, NumPy, Matplotlib, Pandas, Statsmodels, and Scikit-learn.\n",
    "# use Jupyter or Spyder IDE already installed with anaconda package to run the fllowing commands \n",
    "\n",
    "# scipy\n",
    "import scipy\n",
    "print('scipy: %s' % scipy.__version__)\n",
    "# numpy\n",
    "import numpy\n",
    "print('numpy: %s' % numpy.__version__)\n",
    "# matplotlib\n",
    "import matplotlib\n",
    "print('matplotlib: %s' % matplotlib.__version__)\n",
    "# pandas\n",
    "import pandas\n",
    "print('pandas: %s' % pandas.__version__)\n",
    "# statsmodels\n",
    "import statsmodels\n",
    "print('statsmodels: %s' % statsmodels.__version__)\n",
    "# scikit-learn\n",
    "import sklearn\n",
    "print('sklearn: %s' % sklearn.__version__)\n"
   ]
  },
  {
   "cell_type": "code",
   "execution_count": 7,
   "metadata": {},
   "outputs": [],
   "source": [
    "# 4. Update scikit-learn Library\n",
    "# In this step, we will update the main library used for machine learning in Python called scikit-learn.\n",
    "\n",
    "# 1. Update scikit-learn to the latest version.\n",
    "# At the time of writing, the version of scikit-learn shipped with Anaconda is out of date (0.17.1 instead of 0.18.1). You can update a specific library using the conda command; below is an example of updating scikit-learn to the latest version.\n",
    "\n",
    "# At the terminal, type:\n",
    "\n",
    "# conda update scikit-learn\n"
   ]
  },
  {
   "cell_type": "code",
   "execution_count": null,
   "metadata": {},
   "outputs": [],
   "source": [
    "#5 Install Deep Learning Libraries\n",
    "# In this step, we will install Python libraries used for deep learning, specifically: Theano, TensorFlow, and Keras.\n",
    "\n",
    "# NOTE: I recommend using Keras for deep learning and Keras only requires one of Theano or TensorFlow to be installed. You do not need both! There may be problems installing TensorFlow on some Windows machines.\n",
    "\n",
    "# 1. Install the Theano deep learning library by typing:\n",
    "# conda install theano\n",
    "\n",
    "# 2. Install the TensorFlow deep learning library (all except Windows) by typing:\n",
    "# pip install tensorflow\n",
    "\n",
    "\n",
    "# 3. Install Keras by typing:\n",
    "# pip install keras\n",
    "\n"
   ]
  },
  {
   "cell_type": "code",
   "execution_count": 5,
   "metadata": {},
   "outputs": [
    {
     "name": "stdout",
     "output_type": "stream",
     "text": [
      "theano: 1.0.4\n",
      "tensorflow: 2.4.1\n",
      "keras: 2.4.3\n"
     ]
    }
   ],
   "source": [
    "# 4. Confirm your deep learning environment is installed and working correctly.\n",
    "# Create a script that prints the version numbers of each library, as we did before for the SciPy environment.\n",
    "\n",
    "# theano\n",
    "import theano\n",
    "print('theano: %s' % theano.__version__)\n",
    "# tensorflow\n",
    "import tensorflow\n",
    "print('tensorflow: %s' % tensorflow.__version__)\n",
    "# keras\n",
    "import keras\n",
    "print('keras: %s' % keras.__version__)\n"
   ]
  },
  {
   "cell_type": "code",
   "execution_count": 12,
   "metadata": {},
   "outputs": [],
   "source": []
  },
  {
   "cell_type": "code",
   "execution_count": null,
   "metadata": {},
   "outputs": [],
   "source": []
  }
 ],
 "metadata": {
  "kernelspec": {
   "display_name": "Python 3",
   "language": "python",
   "name": "python3"
  },
  "language_info": {
   "codemirror_mode": {
    "name": "ipython",
    "version": 3
   },
   "file_extension": ".py",
   "mimetype": "text/x-python",
   "name": "python",
   "nbconvert_exporter": "python",
   "pygments_lexer": "ipython3",
   "version": "3.8.5"
  }
 },
 "nbformat": 4,
 "nbformat_minor": 4
}
